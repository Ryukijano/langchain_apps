{
 "cells": [
  {
   "cell_type": "code",
   "execution_count": 14,
   "metadata": {},
   "outputs": [
    {
     "name": "stdout",
     "output_type": "stream",
     "text": [
      "[TextBlock(text='Please provide the QASM code that you would like to transpile into Cirq code.', type='text')]\n"
     ]
    }
   ],
   "source": [
    "import os\n",
    "from anthropic import Anthropic\n",
    "\n",
    "XAI_API_KEY = os.getenv(\"XAI_API_KEY\")\n",
    "client = Anthropic(\n",
    "    api_key=\"xai-n1j371Nlua3CIJVIXIwmgqFdpnf3HutQQtxwMPzHxgueGl4L8tEqEG4hJNynOckVaedtH8OpLERemdYs\",\n",
    "    base_url=\"https://api.x.ai\",\n",
    ")\n",
    "message = client.messages.create(\n",
    "    model=\"grok-beta\",\n",
    "    max_tokens=128000,\n",
    "    system=\"You are a transpiler.\",\n",
    "    messages=[\n",
    "        {\n",
    "            \"role\": \"user\",\n",
    "            \"content\": \"Transpile this qasm code to cirq.\",\n",
    "        },\n",
    "    ],\n",
    ")\n",
    "print(message.content)\n"
   ]
  },
  {
   "cell_type": "code",
   "execution_count": null,
   "metadata": {},
   "outputs": [],
   "source": []
  }
 ],
 "metadata": {
  "kernelspec": {
   "display_name": "Python 3",
   "language": "python",
   "name": "python3"
  },
  "language_info": {
   "codemirror_mode": {
    "name": "ipython",
    "version": 3
   },
   "file_extension": ".py",
   "mimetype": "text/x-python",
   "name": "python",
   "nbconvert_exporter": "python",
   "pygments_lexer": "ipython3",
   "version": "3.12.1"
  }
 },
 "nbformat": 4,
 "nbformat_minor": 2
}
